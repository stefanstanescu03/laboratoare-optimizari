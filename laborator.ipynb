{
 "cells": [
  {
   "cell_type": "code",
   "execution_count": 22,
   "metadata": {},
   "outputs": [
    {
     "data": {
      "text/plain": [
       "f (generic function with 1 method)"
      ]
     },
     "metadata": {},
     "output_type": "display_data"
    }
   ],
   "source": [
    "function f(x)\n",
    "    return x^2 + x + 1\n",
    "end"
   ]
  },
  {
   "cell_type": "code",
   "execution_count": 8,
   "metadata": {},
   "outputs": [
    {
     "data": {
      "text/plain": [
       "19.49"
      ]
     },
     "metadata": {},
     "output_type": "display_data"
    }
   ],
   "source": [
    "f(2.3)"
   ]
  },
  {
   "cell_type": "code",
   "execution_count": 28,
   "metadata": {},
   "outputs": [
    {
     "data": {
      "text/plain": [
       "find_min (generic function with 1 method)"
      ]
     },
     "metadata": {},
     "output_type": "display_data"
    }
   ],
   "source": [
    "function find_min(f, a, b, eps)\n",
    "\n",
    "    alpha = 0.618\n",
    "    l = a + (1 - alpha) * (b - a)\n",
    "    u = a + alpha * (b - a)\n",
    "    fl = f(l)\n",
    "    fu = f(u)\n",
    "\n",
    "    while abs(b - a) > eps\n",
    "        if fl < fu\n",
    "            b = u\n",
    "            u = l\n",
    "            l = a + (1 - alpha) * (b - a)\n",
    "            fu = fl\n",
    "            fl = f(l)\n",
    "        else\n",
    "            a = l\n",
    "            l = u\n",
    "            u = a + alpha * (b - a)\n",
    "            fl = fu\n",
    "            fu = f(u)\n",
    "        end\n",
    "    end\n",
    "\n",
    "    return (a + b) / 2\n",
    "end"
   ]
  },
  {
   "cell_type": "code",
   "execution_count": 29,
   "metadata": {},
   "outputs": [
    {
     "data": {
      "text/plain": [
       "0.7500000330857244"
      ]
     },
     "metadata": {},
     "output_type": "display_data"
    }
   ],
   "source": [
    "x = find_min(f, -3, 3, 1e-3)\n",
    "f(x)"
   ]
  },
  {
   "cell_type": "code",
   "execution_count": 30,
   "metadata": {},
   "outputs": [
    {
     "data": {
      "text/plain": [
       "1.9490646909311278"
      ]
     },
     "metadata": {},
     "output_type": "display_data"
    }
   ],
   "source": [
    "function f1(x)\n",
    "    return x^4 + x^3 + 5 * x^2 + x + 2\n",
    "end\n",
    "x = find_min(f1, -3, 3, 1e-3)\n",
    "f1(x)"
   ]
  },
  {
   "cell_type": "code",
   "execution_count": 31,
   "metadata": {},
   "outputs": [
    {
     "data": {
      "text/plain": [
       "15.950042025949223"
      ]
     },
     "metadata": {},
     "output_type": "display_data"
    }
   ],
   "source": [
    "function f2(x)\n",
    "    return 5 * x^2 + x + 16\n",
    "end\n",
    "x = find_min(f1, -4, 4, 1e-3)\n",
    "f2(x)"
   ]
  },
  {
   "cell_type": "code",
   "execution_count": 33,
   "metadata": {},
   "outputs": [
    {
     "data": {
      "text/plain": [
       "-1.4142135377371237"
      ]
     },
     "metadata": {},
     "output_type": "display_data"
    }
   ],
   "source": [
    "function f3(x)\n",
    "    return sin(x) - cos(x)\n",
    "end\n",
    "x = find_min(f3, -2, 2, 1e-3)\n",
    "f3(x)"
   ]
  },
  {
   "cell_type": "code",
   "execution_count": 34,
   "metadata": {},
   "outputs": [
    {
     "data": {
      "text/plain": [
       "-5.091650747516953"
      ]
     },
     "metadata": {},
     "output_type": "display_data"
    }
   ],
   "source": [
    "function f4(x)\n",
    "    return exp(x) - cos(x) - 5 * sin(x)\n",
    "end\n",
    "x = find_min(f4, -7, -3, 1e-3)\n",
    "f4(x)"
   ]
  },
  {
   "cell_type": "code",
   "execution_count": 35,
   "metadata": {},
   "outputs": [
    {
     "data": {
      "text/plain": [
       "-0.20861634662483106"
      ]
     },
     "metadata": {},
     "output_type": "display_data"
    }
   ],
   "source": [
    "function f5(x)\n",
    "    return x^2 - x * cos(x)\n",
    "end\n",
    "x = find_min(f5, -3, 4, 1e-3)\n",
    "f5(x)"
   ]
  },
  {
   "cell_type": "code",
   "execution_count": 44,
   "metadata": {},
   "outputs": [
    {
     "data": {
      "text/plain": [
       "1.4999359014340665"
      ]
     },
     "metadata": {},
     "output_type": "display_data"
    }
   ],
   "source": [
    "function f6(x)\n",
    "    return 2 * x^4 - 4 * x^3 - x^2 + 3 * x + 1\n",
    "end\n",
    "x = find_min(f6, 0, 3, 0.01)\n"
   ]
  }
 ],
 "metadata": {
  "kernelspec": {
   "display_name": "Julia 1.10.2",
   "language": "julia",
   "name": "julia-1.10"
  },
  "language_info": {
   "file_extension": ".jl",
   "mimetype": "application/julia",
   "name": "julia",
   "version": "1.10.2"
  }
 },
 "nbformat": 4,
 "nbformat_minor": 2
}
