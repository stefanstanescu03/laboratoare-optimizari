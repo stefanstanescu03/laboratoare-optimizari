{
 "cells": [
  {
   "cell_type": "code",
   "execution_count": null,
   "metadata": {},
   "outputs": [],
   "source": [
    "function f(x)\n",
    "    return x^2 + x + 1\n",
    "end"
   ]
  },
  {
   "cell_type": "code",
   "execution_count": null,
   "metadata": {},
   "outputs": [],
   "source": [
    "f(2.3)"
   ]
  },
  {
   "cell_type": "code",
   "execution_count": 3,
   "metadata": {},
   "outputs": [
    {
     "data": {
      "text/plain": [
       "find_min (generic function with 1 method)"
      ]
     },
     "metadata": {},
     "output_type": "display_data"
    }
   ],
   "source": [
    "function find_min(f, a, b, eps)\n",
    "\n",
    "    alpha = 0.618\n",
    "    l = a + (1 - alpha) * (b - a)\n",
    "    u = a + alpha * (b - a)\n",
    "    fl = f(l)\n",
    "    fu = f(u)\n",
    "\n",
    "    while abs(b - a) > eps\n",
    "        if fl < fu\n",
    "            b = u\n",
    "            u = l\n",
    "            l = a + (1 - alpha) * (b - a)\n",
    "            fu = fl\n",
    "            fl = f(l)\n",
    "        else\n",
    "            a = l\n",
    "            l = u\n",
    "            u = a + alpha * (b - a)\n",
    "            fl = fu\n",
    "            fu = f(u)\n",
    "        end\n",
    "    end\n",
    "\n",
    "    return (a + b) / 2\n",
    "end"
   ]
  },
  {
   "cell_type": "code",
   "execution_count": null,
   "metadata": {},
   "outputs": [],
   "source": [
    "x = find_min(f, -3, 3, 1e-3)\n",
    "f(x)"
   ]
  },
  {
   "cell_type": "code",
   "execution_count": 7,
   "metadata": {},
   "outputs": [
    {
     "data": {
      "text/plain": [
       "1.9490646909311278"
      ]
     },
     "metadata": {},
     "output_type": "display_data"
    }
   ],
   "source": [
    "function f1(x)\n",
    "    return x^4 + x^3 + 5 * x^2 + x + 2\n",
    "end\n",
    "x = find_min(f1, -3, 3, 1e-3)\n",
    "f1(x)"
   ]
  },
  {
   "cell_type": "code",
   "execution_count": null,
   "metadata": {},
   "outputs": [],
   "source": [
    "function f2(x)\n",
    "    return 5 * x^2 + x + 16\n",
    "end\n",
    "x = find_min(f1, -4, 4, 1e-3)\n",
    "f2(x)"
   ]
  },
  {
   "cell_type": "code",
   "execution_count": null,
   "metadata": {},
   "outputs": [],
   "source": [
    "function f3(x)\n",
    "    return sin(x) - cos(x)\n",
    "end\n",
    "x = find_min(f3, -2, 2, 1e-3)\n",
    "f3(x)"
   ]
  },
  {
   "cell_type": "code",
   "execution_count": null,
   "metadata": {},
   "outputs": [],
   "source": [
    "function f4(x)\n",
    "    return exp(x) - cos(x) - 5 * sin(x)\n",
    "end\n",
    "x = find_min(f4, -7, -3, 1e-3)\n",
    "f4(x)"
   ]
  },
  {
   "cell_type": "code",
   "execution_count": null,
   "metadata": {},
   "outputs": [],
   "source": [
    "function f5(x)\n",
    "    return x^2 - x * cos(x)\n",
    "end\n",
    "x = find_min(f5, -3, 4, 1e-3)\n",
    "f5(x)"
   ]
  },
  {
   "cell_type": "code",
   "execution_count": 4,
   "metadata": {},
   "outputs": [
    {
     "data": {
      "text/plain": [
       "1.4999359014340665"
      ]
     },
     "metadata": {},
     "output_type": "display_data"
    }
   ],
   "source": [
    "function f6(x)\n",
    "    return 2 * x^4 - 4 * x^3 - x^2 + 3 * x + 1\n",
    "end\n",
    "x = find_min(f6, 0, 3, 0.01)\n"
   ]
  },
  {
   "cell_type": "code",
   "execution_count": 1,
   "metadata": {},
   "outputs": [
    {
     "data": {
      "text/plain": [
       "fibonacci_search (generic function with 1 method)"
      ]
     },
     "metadata": {},
     "output_type": "display_data"
    }
   ],
   "source": [
    "function fibonacci_search(f, a, b, eps)\n",
    "    fib = Int[]\n",
    "    n = 2\n",
    "    append!(fib, 1)\n",
    "    append!(fib, 1)\n",
    "    while fib[n] < (b - a) / eps\n",
    "        n += 1\n",
    "        append!(fib, fib[n-1] + fib[n-2])\n",
    "    end\n",
    "\n",
    "    l = a + fib[n-2] / fib[n] * (b - a)\n",
    "    u = a + fib[n-1] / fib[n] * (b - a)\n",
    "\n",
    "    fl = f(l)\n",
    "    fu = f(u)\n",
    "\n",
    "    l_prev = -1\n",
    "    a_prev = -1\n",
    "    b_prev = -1\n",
    "\n",
    "    for k = 1:n-2\n",
    "\n",
    "        l_prev = l\n",
    "        a_prev = a\n",
    "        b_prev = b\n",
    "\n",
    "        if fl >= fu\n",
    "            a = l\n",
    "            l = u\n",
    "            u = a + fib[n-k-1] / fib[n-k] * (b - a)\n",
    "            fl = fu\n",
    "            fu = f(u)\n",
    "        else\n",
    "            b = u\n",
    "            u = l\n",
    "            l = a + fib[n-k-2] / fib[n-k] * (b - a)\n",
    "            fu = fl\n",
    "            fl = f(l)\n",
    "        end\n",
    "    end\n",
    "\n",
    "    l = l_prev\n",
    "    u = l + eps\n",
    "    if fl > fu\n",
    "        a = l\n",
    "        b = b_prev\n",
    "    else\n",
    "        a = a_prev\n",
    "        b = l\n",
    "    end\n",
    "\n",
    "    return (a + b) / 2\n",
    "\n",
    "end"
   ]
  },
  {
   "cell_type": "code",
   "execution_count": 4,
   "metadata": {},
   "outputs": [
    {
     "name": "stdout",
     "output_type": "stream",
     "text": [
      "-0.9885245901639345\n"
     ]
    }
   ],
   "source": [
    "function f1(x)\n",
    "    return 3 * sin(x) - 2 * cos(x)\n",
    "end\n",
    "x = fibonacci_search(f1, -3, 3, 0.01)\n",
    "println(x)"
   ]
  }
 ],
 "metadata": {
  "kernelspec": {
   "display_name": "Julia 1.10.2",
   "language": "julia",
   "name": "julia-1.10"
  },
  "language_info": {
   "file_extension": ".jl",
   "mimetype": "application/julia",
   "name": "julia",
   "version": "1.10.2"
  }
 },
 "nbformat": 4,
 "nbformat_minor": 2
}
